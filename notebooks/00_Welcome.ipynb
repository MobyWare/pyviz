{
 "cells": [
  {
   "cell_type": "markdown",
   "metadata": {},
   "source": [
    "<div style=\"float:left;\"><h2>PyViz Tutorial</h2></div>\n",
    "<div style=\"float:right;\"><h2>00. Welcome, Demos and Setup</h2></div>"
   ]
  },
  {
   "cell_type": "markdown",
   "metadata": {},
   "source": [
    "<img height=\"148\" width=\"800\" src=\"assets/hv_gv_bk_ds_pa.png\"/>\n",
    "\n",
    "Welcome to the PyViz Tutorial! It will take you step by step to show you how to solve problems in web-based data exploration, visualization, and interactive-app development using the [Anaconda](http://anaconda.com)-supported open-source Python libraries\n",
    "[HoloViews](http://holoviews.org),\n",
    "[GeoViews](http://geo.holoviews.org),\n",
    "[Bokeh](http://bokeh.pydata.org),\n",
    "[Datashader](https://github.com/bokeh/datashader), and \n",
    "[Param](http://ioam.github.io/param). These libraries have been carefully designed to work together to address a very wide range of data-analysis and visualization tasks, making it simple to discover, understand, and communicate the important properties of your data.\n",
    "\n",
    "<img align=\"center\" src=\"./assets/tutorial_app.gif\"></img>\n",
    "\n",
    "This notebook serves as the homepage of the tutorial, including a table of contents listing each tutorial section, a general overview, links to demos illustrating the range of topics covered, and instructions to check that everything is installed properly."
   ]
  },
  {
   "cell_type": "markdown",
   "metadata": {},
   "source": [
    "## Index and Schedule\n",
    "\n",
    "Sections 00-13 of this tutorial have been given as a 1-day course led by trained instructors.  For self-paced usage, you should expect this material to take between 1 and 3 days if you do all of it.  Sections 0, 1, 2, 3, and 4 contain the most crucial and basic introdutory material, and should take a couple of hours of study.  All later sections can be studied as needed or skipped if not relevant.\n",
    "\n",
    "- *Overview*\n",
    "   * **15 min** &nbsp;[0 - Welcome](./00_Welcome.ipynb): (This notebook!) Welcome, demos, and setup.\n",
    "   * **30 min** &nbsp;[1 - Workflow Introduction](./01_Workflow_Introduction.ipynb): Overview of solving a simple but complete data-science task, using each of the PyViz tools.\n",
    "   * **5 min** &nbsp;&nbsp;&nbsp;*Break*<br><br>\n",
    "\n",
    "- *Making data visualizable*\n",
    "   * **30 min** &nbsp;[2 - Annotating Data](./02_Annotating_Data.ipynb): Using HoloViews Elements to make your data instantly visualizable\n",
    "   * **20 min** &nbsp;[3 - Customizing Visual Appearance](./03_Customizing_Visual_Appearance.ipynb): How to change the appearance and output format of elements.\n",
    "   * **10 min** &nbsp;[*Exercise 1*](../exercises/Exercise-1-making-data-visualizable.ipynb)\n",
    "   * **10 min** &nbsp;*Break*<br><br>\n",
    "   \n",
    "- *Datasets and collections of data*   \n",
    "   * **30 min** &nbsp;[4 - Working with Datasets](./04-Working_with_Datasets.ipynb): Using HoloViews \"containers\" for quick, easy data exploration.\n",
    "   * **10 min** &nbsp;[5 - Working with Gridded Data](./05-Working_with_Gridded_Data.ipynb): Exploring a gridded (n-dimensional) dataset.\n",
    "   * **20 min** &nbsp;[*Exercise 2*](../exercises/Exercise-2-datasets-and-collections-of-data.ipynb)\n",
    "   * **20 min** &nbsp;[6 - Network Graphs](./06-Network_Graphs.ipynb): Exploring network graph data.\n",
    "   * **20 min** &nbsp;[7 - Geographic Data](./07-Geographic_Data.ipynb): Plotting data in geographic coordinates.\n",
    "   * **20 min** &nbsp;[*Exercise 3*](../exercises/Exercise-3-networks-and-geoviews.ipynb)\n",
    "   * **60 min** &nbsp;*Lunch*<br><br>\n",
    "\n",
    "- *Dynamic interactions*\n",
    "   * **25 min** &nbsp;[8 - Custom Interactivity](./08_Custom_Interactivity.ipynb): Using HoloViews \"streams\" to add interactivity to your visualizations.\n",
    "   * **15 min** &nbsp;[9 - Operations and Pipelines](./09_Operations_and_Pipelines.ipynb): Dynamically transforming your data as needed\n",
    "   * **20 min** &nbsp;[10 - Working with Large Datasets](./10_Working_with_Large_Datasets.ipynb): Using datasets too large to feed directly to your browser.\n",
    "   * **30 min** &nbsp;[11 - Streaming Data](./11_Streaming_Data.ipynb): Live plots of dynamically updated data sources.\n",
    "   * **20 min** &nbsp;[*Exercise 4*](../exercises/Exercise-4-dynamic-interactions.ipynb)\n",
    "   * **10 min** &nbsp;*Break*<br><br>\n",
    "   \n",
    "- *Apps and dashboards*  \n",
    "   * **15 min** &nbsp;[12 - Parameters and Widgets](./12_Parameters_and_Widgets.ipynb): Declarative custom controls\n",
    "   * **30 min** &nbsp;[13 - Deploying Bokeh Apps](./13_Deploying_Bokeh_Apps.ipynb): Deploying your visualizations using Bokeh server.\n",
    "   * *(omit)* &nbsp;&nbsp;&nbsp;[A1 - Exploration with Containers](./A1_Exploration_with_Containers.ipynb): Containers that let you explore complex datasets.\n",
    "   * **15 min** &nbsp;[*Exercise 5*](../exercises/Exercise-5-exporting-and-deploying-apps.ipynb)\n"
   ]
  },
  {
   "cell_type": "markdown",
   "metadata": {},
   "source": [
    "## What is this all about?\n",
    "\n",
    "Many of the activities of a data scientist or analyst require visualization, but it can be difficult to assemble a set of tools that cover all of the tasks involved. Initial exploration needs to be in a flexible, open-ended environment where it is simple to try out and test hypotheses.  Once key aspects of the data have been identified, the analyst might prepare a specific image or figure to share with colleagues or a wider audience. Or, they might need to set up an interactive way to share a set of data that would be unwieldy as a fixed figure, using interactive controls to let others explore along certain dimensions. Eventually, for particularly important data or use cases, the analyst might get involved in a long-term project to develop a full-featured web application or dashboard to deploy, allowing decision makers to interact directly with live data streams to make operational decisions.\n",
    "\n",
    "With Python, initial exploration is typically in a [Jupyter](http://jupyter.org) notebook, using tools like Matplotlib and Bokeh to develop static or interactive plots. These tools support a simple syntax for making certain kinds of plots, but showing more complex relationships in data can quickly turn into a major software development exercise, making it difficult to achieve understanding during exploration. Simple apps can be built using ipywidgets to control these visualizations, but the resulting combinations end up being tightly coupled to the notebook environment, unable to migrate into a standalone server context with an application that can be shared more widely.  Bokeh includes widgets that can work in both notebook and server environments, but these can be difficult to work with for initial exploration. Bokeh and Matplotlib both also have limitations on how much data they can handle, e.g. because Bokeh requires the data to be put into the web browser's limited memory space. \n",
    "\n",
    "In this tutorial we will be introducing a set of open-source Python libraries we have been developing to streamline the process of working with small and large datasets (from a few points to billions) in a web browser, whether doing exploratory analysis, making simple widget-based tools, or building full-featured dashboards. The libraries in this ecosystem include:\n",
    "\n",
    "* [**Bokeh**](http://bokeh.pydata.org): Interactive plotting in web browsers, running JavaScript but controlled by Python\n",
    "* [**HoloViews**](http://holoviews.org): Declarative objects for instantly visualizable data, building Bokeh plots from convenient high-level specifications\n",
    "* [**GeoViews**](http://geo.holoviews.org): Visualizable geographic data that that can be mixed and matched with HoloViews objects\n",
    "* [**Datashader**](https://github.com/bokeh/datashader): Rasterizing huge datasets quickly as fixed-size images\n",
    "* [**Param**](https://github.com/ioam/param): Declaring user-relevant parameters, making it simple to work with widgets inside and outside of a notebook context\n",
    "\n",
    "Here's how they all fit together, for reference:\n",
    "\n",
    "<img src=\"assets/ds_hv_bokeh.png\" width=800 height=217/>\n",
    "\n",
    "Behind the scenes, these tools rely on a wide range of other open-source libraries for their implementation, including:\n",
    "\n",
    "* [**Pandas**](http://pandas.pydata.org): Convenient computation on columnar datasets (used by HoloViews and datashader)\n",
    "* [**Xarray**](http://xarray): Convenient computations on multidimensional array datasets (used by HoloViews and Datashader)\n",
    "* [**Dask**](http://dask.pydata.org): Efficient out-of-core/distributed computation on massive datasets (used by Datashader)\n",
    "* [**Numba**](http://numba.pydata.org): Accelerated machine code for inner loops (used by Datashader)\n",
    "* [**Fastparquet**](https://fastparquet.readthedocs.io): Efficient storage for columnar data\n",
    "\n",
    "This tutorial will guide you through the process of using these tools together to build rich, high-performance, scalable, flexible, and deployable visualizations, apps, and dashboards, without having to use JavaScript or other web technologies explicitly, and without having to rewrite code to move between each of the different tasks or phases from exploration to deployment."
   ]
  },
  {
   "cell_type": "markdown",
   "metadata": {},
   "source": [
    "## Demos\n",
    "\n",
    "To give you an idea what sort of functionality is possible with these tools, check out some of these links:\n",
    "\n",
    "\n",
    "* [Selection stream](http://holoviews.org/reference/apps/bokeh/selection_stream.html)\n",
    "* [Bounds stream](http://holoviews.org/reference/streams/bokeh/BoundsX.html)\n",
    "* [Mandelbrot](http://holoviews.org/gallery/apps/bokeh/mandelbrot.html)\n",
    "* [DynamicMap](http://holoviews.org/reference/containers/bokeh/DynamicMap.html)\n",
    "* [Crossfilter](http://holoviews.org/gallery/apps/bokeh/crossfilter.html)\n",
    "* [Game of Life](http://holoviews.org/gallery/apps/bokeh/game_of_life.html)\n",
    "* [Dragon curve](http://holoviews.org/gallery/demos/bokeh/dragon_curve.html)\n",
    "* [Datashader NYC Taxi](https://anaconda.org/jbednar/nyc_taxi)\n",
    "* [Datashader Graphs](https://anaconda.org/jbednar/edge_bundling)\n",
    "* [Datashader OpenSky](https://anaconda.org/jbednar/opensky)"
   ]
  },
  {
   "cell_type": "markdown",
   "metadata": {},
   "source": [
    "## Related links\n",
    "\n",
    "You will find extensive support material on the websites for each package. You may find these links particularly useful during the tutorial:\n",
    "\n",
    "* [HoloViews reference gallery](http://holoviews.org/reference/index.html): Visual reference of all elements and containers, along with some other components\n",
    "* [HoloViews getting-started guide](http://holoviews.org/getting_started/index.html): Covers some of the same topics as this tutorial, but without exercises\n",
    "\n",
    "## Getting set up\n",
    "\n",
    "Please consult the ``pyviz`` repository [README](https://github.com/pyviz/pyviz/blob/master/README.rst) for instructions on setting up your environment. Here is the condensed version of these instructions for UNIX-based systems (Linux or Mac OS X), assuming you have already downloaded and installed [Anaconda](https://www.anaconda.com/download) or Miniconda:\n",
    "\n",
    "```bash\n",
    "$ conda env create -f environment.yml\n",
    "$ source activate pyviz\n",
    "$ cd notebooks\n",
    "```\n",
    "\n",
    "On Windows, just omit \"``source``\". If you have any problems with running these instructions, you can conveniently view the full instructions within this notebook by running the following cell:"
   ]
  },
  {
   "cell_type": "code",
   "execution_count": null,
   "metadata": {
    "collapsed": true
   },
   "outputs": [],
   "source": [
    "from IPython.core import page\n",
    "with open('../README.rst', 'r') as f:\n",
    "    page.page(f.read())"
   ]
  },
  {
   "cell_type": "markdown",
   "metadata": {},
   "source": [
    "If you created the environment before the tutorial started, make sure to ``git pull``, activate the ``pyviz`` environment in the ``notebooks`` directory and run:\n",
    "\n",
    "## 1. Go to ``C:/Users/student01/pyviz``\n",
    "\n",
    "## 2. Right-click and launch ``Git Bash here``\n",
    "\n",
    "## 3. ``git pull``\n",
    "\n",
    "## 4. ``conda env update -f ./environment.yml``\n",
    "\n",
    "## 5. ``source activate pyviz``\n",
    "\n",
    "## 6. Launch ``jupyter notebook``"
   ]
  },
  {
   "cell_type": "markdown",
   "metadata": {},
   "source": [
    "Once the environment is set up, the following cell should print '1.9.1':"
   ]
  },
  {
   "cell_type": "code",
   "execution_count": null,
   "metadata": {
    "collapsed": true
   },
   "outputs": [],
   "source": [
    "import holoviews as hv\n",
    "hv.__version__"
   ]
  },
  {
   "cell_type": "markdown",
   "metadata": {},
   "source": [
    "And you should see the HoloViews, Bokeh, and Matplotlib logos after running the following cell:"
   ]
  },
  {
   "cell_type": "code",
   "execution_count": null,
   "metadata": {
    "collapsed": true
   },
   "outputs": [],
   "source": [
    "hv.extension('bokeh', 'matplotlib')"
   ]
  },
  {
   "cell_type": "markdown",
   "metadata": {},
   "source": [
    "The next cell tests the key imports needed for this tutorial, and if it completes without errors your environment should be ready to go:"
   ]
  },
  {
   "cell_type": "code",
   "execution_count": null,
   "metadata": {
    "collapsed": true
   },
   "outputs": [],
   "source": [
    "import bokeh\n",
    "import matplotlib\n",
    "import pandas\n",
    "import datashader\n",
    "import dask\n",
    "import geoviews"
   ]
  },
  {
   "cell_type": "markdown",
   "metadata": {},
   "source": [
    "Lastly, let's make sure the large taxi dataset is available, which can be obtained as described in the [README](https://github.com/ioam/jupytercon2017-holoviews-tutorial/blob/master/README.rst):"
   ]
  },
  {
   "cell_type": "code",
   "execution_count": null,
   "metadata": {
    "collapsed": true
   },
   "outputs": [],
   "source": [
    "import os\n",
    "if not os.path.isfile('../data/nyc_taxi_wide.parq'):\n",
    "    print('Taxi dataset not found; please run \"python download_sample_data.py\".')"
   ]
  },
  {
   "cell_type": "markdown",
   "metadata": {},
   "source": [
    "## Downloading sample data"
   ]
  },
  {
   "cell_type": "markdown",
   "metadata": {},
   "source": [
    "Some examples in the tutorial rely on bokeh sample data. Simply run the command below to fetch it:"
   ]
  },
  {
   "cell_type": "code",
   "execution_count": null,
   "metadata": {
    "collapsed": true
   },
   "outputs": [],
   "source": [
    "bokeh.sampledata.download()"
   ]
  },
  {
   "cell_type": "markdown",
   "metadata": {},
   "source": [
    "## Recommended configuration"
   ]
  },
  {
   "cell_type": "markdown",
   "metadata": {},
   "source": [
    "The following configuration options are recommended additions to your '~/.holoviews.rc' file as they improve the tutorial experience and will be the default behaviour in future:"
   ]
  },
  {
   "cell_type": "code",
   "execution_count": null,
   "metadata": {
    "collapsed": true
   },
   "outputs": [],
   "source": [
    "lines = \"\"\"\\\n",
    "import holoviews as hv\n",
    "hv.extension.case_sensitive_completion=True\n",
    "hv.Dataset.datatype = ['dataframe']+hv.Dataset.datatype\n",
    "\"\"\""
   ]
  },
  {
   "cell_type": "markdown",
   "metadata": {},
   "source": [
    "If you do not have a holoviews.rc already, simply run the following cell to generate one containing the above lines:"
   ]
  },
  {
   "cell_type": "code",
   "execution_count": null,
   "metadata": {
    "collapsed": true
   },
   "outputs": [],
   "source": [
    "rcpath = os.path.join(os.path.expanduser('~'), '.holoviews.rc')\n",
    "if not os.path.isfile(rcpath):\n",
    "    with open(rcpath, 'w') as f:\n",
    "        f.write(lines)"
   ]
  }
 ],
 "metadata": {
  "kernelspec": {
   "display_name": "Python 3",
   "language": "python",
   "name": "python3"
  },
  "language_info": {
   "codemirror_mode": {
    "name": "ipython",
    "version": 3
   },
   "file_extension": ".py",
   "mimetype": "text/x-python",
   "name": "python",
   "nbconvert_exporter": "python",
   "pygments_lexer": "ipython3",
   "version": "3.6.3"
  }
 },
 "nbformat": 4,
 "nbformat_minor": 2
}
