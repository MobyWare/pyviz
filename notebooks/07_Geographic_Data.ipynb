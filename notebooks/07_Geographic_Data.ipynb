{
 "cells": [
  {
   "cell_type": "markdown",
   "metadata": {},
   "source": [
    "<a href='http://www.holoviews.org'><img src=\"assets/hv+bk.png\" alt=\"HV+BK logos\" width=\"40%;\" align=\"left\"/></a>\n",
    "<div style=\"float:right;\"><h2>07. GeoViews: Working with geographic data</h2></div>"
   ]
  },
  {
   "cell_type": "markdown",
   "metadata": {},
   "source": [
    "The geoviews package provides a library of Element types which extend standard HoloViews functionality by making the elements aware of geographic projection. The plotting code will automatically transform coordinates to the appropriate projection during plotting so you can work with latitudes and longitudes while GeoViews will handle the complexities of projecting data to mercator coordinates."
   ]
  },
  {
   "cell_type": "code",
   "execution_count": null,
   "metadata": {},
   "outputs": [],
   "source": [
    "import cartopy.crs as ccrs\n",
    "import holoviews as hv\n",
    "import geoviews as gv\n",
    "import geoviews.feature as gf\n",
    "\n",
    "hv.extension('bokeh', 'matplotlib')"
   ]
  },
  {
   "cell_type": "markdown",
   "metadata": {},
   "source": [
    "## Projections\n",
    "\n",
    "The Cartopy project provides a convenient Python wrapper around the proj4 library making it easy to define geographic projections in Python. GeoViews elements accept a ``crs`` parameter defining the coordinate reference system the data defined on the element is defined as. By default all GeoViews elements assume the ``PlateCarree`` projection which is a Equirectangular projection with coordinates defined as regular latitudes and longitudes. When plotting geographic data with bokeh GeoViews will automatically convert the data to WebMercator coordinates allowing it to be easily overlaid on top of tiles sources."
   ]
  },
  {
   "cell_type": "code",
   "execution_count": null,
   "metadata": {},
   "outputs": [],
   "source": [
    "%%opts Points [width=600 height=500] (size=6)\n",
    "\n",
    "nyc = (-74, 40.7, 'NYC')\n",
    "london = (0.1, 51.5, 'London')\n",
    "beijing = (116.4, 39.9, 'Beijing')\n",
    "\n",
    "points = gv.Points([nyc, london, beijing], vdims=['City'], extents=(-180, -90, 180, 90))\n",
    "print('Default projection:', points.crs)\n",
    "points * gf.borders * gf.coastline"
   ]
  },
  {
   "cell_type": "markdown",
   "metadata": {},
   "source": [
    "When plotting with matplotlib we have complete freedom about the projection we want to display the data in, independent of the projection of the original data. Here we switch to the ``Robinson`` projection:"
   ]
  },
  {
   "cell_type": "code",
   "execution_count": null,
   "metadata": {},
   "outputs": [],
   "source": [
    "%%output backend='matplotlib' size=250 fig='svg'\n",
    "%%opts Points [projection=ccrs.Robinson()]\n",
    "points * gf.borders * gf.coastline"
   ]
  },
  {
   "cell_type": "markdown",
   "metadata": {},
   "source": [
    "## Projecting data"
   ]
  },
  {
   "cell_type": "markdown",
   "metadata": {},
   "source": [
    "GeoViews also provides operations to easily project data (which is what the plotting classes use in the background). Here we project our points to the Google Mercator projection and display them as a pandas DataFrame:"
   ]
  },
  {
   "cell_type": "code",
   "execution_count": null,
   "metadata": {},
   "outputs": [],
   "source": [
    "projected = gv.operation.project(points)\n",
    "print('New projection:', projected.crs)\n",
    "projected.dframe().set_index('City')"
   ]
  },
  {
   "cell_type": "markdown",
   "metadata": {},
   "source": [
    "It is often useful to project the data ahead of time, particularly for large datasets, because when working interactively we often display the data many times and don't want to reproject it every time."
   ]
  },
  {
   "cell_type": "markdown",
   "metadata": {},
   "source": [
    "## Tile sources"
   ]
  },
  {
   "cell_type": "markdown",
   "metadata": {},
   "source": [
    "Tile sources are very convenient ways to provide geographic context for a plot and they will be familiar from the popular mapping services such as Google Maps and Openstreetmap. The ``WMTS`` element provides an easy way to include such a tile source in your visualization simply by passing it a valid URL template. Here we provide a list of common tile sources for use with Bokeh. Additional open tile sources you could use can be found at [openstreetmap.org](http://wiki.openstreetmap.org/wiki/Tile_servers)."
   ]
  },
  {
   "cell_type": "code",
   "execution_count": null,
   "metadata": {},
   "outputs": [],
   "source": [
    "%%opts WMTS [width=400 height=300 xaxis=None yaxis=None]\n",
    "from bokeh.tile_providers import STAMEN_TONER\n",
    "\n",
    "tiles = {'OpenMap': 'http://c.tile.openstreetmap.org/{Z}/{X}/{Y}.png',\n",
    "         'ESRI': 'https://server.arcgisonline.com/ArcGIS/rest/services/World_Imagery/'\n",
    "                 'MapServer/tile/{Z}/{X}/{Y}.jpg',\n",
    "         'Wikipedia': 'https://maps.wikimedia.org/osm-intl/{Z}/{X}/{Y}.png',\n",
    "         'Stamen Toner': STAMEN_TONER}\n",
    "\n",
    "hv.Layout([gv.WMTS(wmts, extents=(0, -90, 360, 90), label=name)\n",
    "           for name, wmts in tiles.items()]).cols(2)"
   ]
  },
  {
   "cell_type": "markdown",
   "metadata": {},
   "source": [
    "## Geometries\n",
    "\n",
    "#### Features\n",
    "\n",
    "As we have already discovered GeoViews ships with a number of geographic features available under ``geoviews.feature``, which we have imported as ``gf``. Additionally we may load other ``NaturalEarthFeature``s that can be loaded using ``cartopy``:"
   ]
  },
  {
   "cell_type": "code",
   "execution_count": null,
   "metadata": {},
   "outputs": [],
   "source": [
    "%%opts Feature [width=600 height=500]\n",
    "import cartopy.feature as cf\n",
    "graticules = cf.NaturalEarthFeature(\n",
    "    category='physical',\n",
    "    name='graticules_30',\n",
    "    scale='110m')\n",
    "gf.ocean*gf.land*gf.coastline* gv.Feature(graticules, group='Lines')"
   ]
  },
  {
   "cell_type": "markdown",
   "metadata": {},
   "source": [
    "#### Geopandas\n",
    "\n",
    "GeoPandas extends the datatypes used by pandas to allow spatial operations on geometric types, which makes it a very convenient way of working with geometries with associated variables. A GeoPandas dataframe acts just like a pandas DataFrame except for the addition of a ``geometry`` columns which holds shapely geometries, along with metadata"
   ]
  },
  {
   "cell_type": "code",
   "execution_count": null,
   "metadata": {},
   "outputs": [],
   "source": [
    "import geopandas as gpd\n",
    "world = gpd.read_file(gpd.datasets.get_path('naturalearth_lowres'))\n",
    "world.head()"
   ]
  },
  {
   "cell_type": "markdown",
   "metadata": {},
   "source": [
    "GeoViews ``Path``, ``Contours`` and ``Polygons`` Elements natively support projecting and plotting of\n",
    "geopandas DataFrames using both ``matplotlib`` and ``bokeh`` plotting extensions. We will load the example dataset of the world which also includes some additional data about each country:"
   ]
  },
  {
   "cell_type": "code",
   "execution_count": null,
   "metadata": {},
   "outputs": [],
   "source": [
    "%%opts Polygons [width=600 height=500 tools=['hover']] (cmap='viridis')\n",
    "gv.Polygons(world, vdims=['gdp_md_est', 'continent', 'name']).redim.range(Latitude=(-60, 90))"
   ]
  },
  {
   "cell_type": "markdown",
   "metadata": {},
   "source": [
    "#### Shapes"
   ]
  },
  {
   "cell_type": "markdown",
   "metadata": {},
   "source": [
    "The ``gv.Shape`` object wraps around any shapely geometry, allowing finer grained control over each polygon. We can, for example select one particular geometry in the geopandas dataframe and display it separately by wrapping it in the ``Shape`` element:"
   ]
  },
  {
   "cell_type": "code",
   "execution_count": null,
   "metadata": {},
   "outputs": [],
   "source": [
    "usa = world[world.name=='United States'].geometry.iloc[0]\n",
    "gv.Shape(usa)"
   ]
  }
 ],
 "metadata": {
  "language_info": {
   "name": "python",
   "pygments_lexer": "ipython3"
  }
 },
 "nbformat": 4,
 "nbformat_minor": 2
}
